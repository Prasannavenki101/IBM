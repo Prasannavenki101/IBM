{
 "cells": [
  {
   "cell_type": "markdown",
   "id": "26c1675f",
   "metadata": {},
   "source": [
    "## 1.Download flower dataset"
   ]
  },
  {
   "cell_type": "markdown",
   "id": "73df952f",
   "metadata": {},
   "source": [
    "## 2.Image Augmentation"
   ]
  },
  {
   "cell_type": "code",
   "execution_count": 1,
   "id": "06b80749",
   "metadata": {},
   "outputs": [],
   "source": [
    "from tensorflow.keras.preprocessing.image import ImageDataGenerator \n",
    "\n",
    "train_gen = ImageDataGenerator(rescale=1./255,\n",
    "                               zoom_range=0.2,\n",
    "                               horizontal_flip=True)\n",
    "test_gen = ImageDataGenerator(rescale=1./255)"
   ]
  },
  {
   "cell_type": "code",
   "execution_count": 3,
   "id": "85603456",
   "metadata": {},
   "outputs": [
    {
     "name": "stdout",
     "output_type": "stream",
     "text": [
      "Found 4317 images belonging to 5 classes.\n"
     ]
    }
   ],
   "source": [
    "xtrain = train_gen.flow_from_directory('flowers-dataset/flowers',\n",
    "                                       target_size=(64,64),\n",
    "                                       class_mode='categorical',\n",
    "                                       batch_size=100)"
   ]
  },
  {
   "cell_type": "markdown",
   "id": "197154c7",
   "metadata": {},
   "source": [
    "## 3.Create Model"
   ]
  },
  {
   "cell_type": "code",
   "execution_count": 4,
   "id": "f08e45c2",
   "metadata": {},
   "outputs": [],
   "source": [
    "from tensorflow.keras.models import Sequential\n",
    "from tensorflow.keras.layers import Convolution2D, MaxPooling2D, Dense, Flatten\n",
    "from keras.callbacks import EarlyStopping, ReduceLROnPlateau"
   ]
  },
  {
   "cell_type": "code",
   "execution_count": 5,
   "id": "65e59b65",
   "metadata": {},
   "outputs": [],
   "source": [
    "model = Sequential()\n",
    "model.add(Convolution2D(32,(3,3),activation='relu',input_shape=(64,64,3)))\n",
    "model.add(MaxPooling2D((2,2)))\n",
    "model.add(Flatten())\n",
    "\n",
    "model.add(Dense(400,activation='relu'))\n",
    "model.add(Dense(200,activation='relu'))\n",
    "model.add(Dense(100,activation='relu'))\n",
    "model.add(Dense(5,activation='softmax'))"
   ]
  },
  {
   "cell_type": "markdown",
   "id": "164f836d",
   "metadata": {},
   "source": [
    "## 4.Compile Model"
   ]
  },
  {
   "cell_type": "code",
   "execution_count": 6,
   "id": "2c400224",
   "metadata": {},
   "outputs": [],
   "source": [
    "model.compile(optimizer='adam',loss='categorical_crossentropy',metrics=['accuracy'])"
   ]
  },
  {
   "cell_type": "code",
   "execution_count": 7,
   "id": "51fef425",
   "metadata": {},
   "outputs": [],
   "source": [
    "early_stopping = EarlyStopping(monitor='accuracy',\n",
    "                        patience=3)\n",
    "reduce_lr = ReduceLROnPlateau(monitor='accuracy',\n",
    "                        patience=5,\n",
    "                        factor=0.5,min_lr=0.00001)\n",
    "\n",
    "callback = [reduce_lr,early_stopping]"
   ]
  },
  {
   "cell_type": "markdown",
   "id": "b587fbee",
   "metadata": {},
   "source": [
    "## 5.Fit Model"
   ]
  },
  {
   "cell_type": "code",
   "execution_count": 9,
   "id": "d12bf5f7",
   "metadata": {},
   "outputs": [
    {
     "name": "stdout",
     "output_type": "stream",
     "text": [
      "Epoch 1/100\n",
      "44/44 [==============================] - 52s 1s/step - loss: 1.2045 - accuracy: 0.4959 - lr: 0.0010\n",
      "Epoch 2/100\n",
      "44/44 [==============================] - 37s 833ms/step - loss: 1.0977 - accuracy: 0.5696 - lr: 0.0010\n",
      "Epoch 3/100\n",
      "44/44 [==============================] - 36s 815ms/step - loss: 1.0152 - accuracy: 0.5960 - lr: 0.0010\n",
      "Epoch 4/100\n",
      "44/44 [==============================] - 35s 786ms/step - loss: 0.9521 - accuracy: 0.6317 - lr: 0.0010\n",
      "Epoch 5/100\n",
      "44/44 [==============================] - 35s 787ms/step - loss: 0.9199 - accuracy: 0.6442 - lr: 0.0010\n",
      "Epoch 6/100\n",
      "44/44 [==============================] - 36s 811ms/step - loss: 0.8733 - accuracy: 0.6627 - lr: 0.0010\n",
      "Epoch 7/100\n",
      "44/44 [==============================] - 35s 805ms/step - loss: 0.8305 - accuracy: 0.6778 - lr: 0.0010\n",
      "Epoch 8/100\n",
      "44/44 [==============================] - 35s 800ms/step - loss: 0.8026 - accuracy: 0.6963 - lr: 0.0010\n",
      "Epoch 9/100\n",
      "44/44 [==============================] - 35s 796ms/step - loss: 0.7649 - accuracy: 0.7102 - lr: 0.0010\n",
      "Epoch 10/100\n",
      "44/44 [==============================] - 36s 809ms/step - loss: 0.7348 - accuracy: 0.7255 - lr: 0.0010\n",
      "Epoch 11/100\n",
      "44/44 [==============================] - 35s 780ms/step - loss: 0.6804 - accuracy: 0.7410 - lr: 0.0010\n",
      "Epoch 12/100\n",
      "44/44 [==============================] - 37s 832ms/step - loss: 0.6428 - accuracy: 0.7584 - lr: 0.0010\n",
      "Epoch 13/100\n",
      "44/44 [==============================] - 36s 812ms/step - loss: 0.6266 - accuracy: 0.7665 - lr: 0.0010\n",
      "Epoch 14/100\n",
      "44/44 [==============================] - 35s 787ms/step - loss: 0.5811 - accuracy: 0.7795 - lr: 0.0010\n",
      "Epoch 15/100\n",
      "44/44 [==============================] - 36s 814ms/step - loss: 0.5744 - accuracy: 0.7887 - lr: 0.0010\n",
      "Epoch 16/100\n",
      "44/44 [==============================] - 35s 784ms/step - loss: 0.5282 - accuracy: 0.8070 - lr: 0.0010\n",
      "Epoch 17/100\n",
      "44/44 [==============================] - 35s 783ms/step - loss: 0.5236 - accuracy: 0.8087 - lr: 0.0010\n",
      "Epoch 18/100\n",
      "44/44 [==============================] - 35s 794ms/step - loss: 0.5105 - accuracy: 0.8089 - lr: 0.0010\n",
      "Epoch 19/100\n",
      "44/44 [==============================] - 35s 784ms/step - loss: 0.4747 - accuracy: 0.8189 - lr: 0.0010\n",
      "Epoch 20/100\n",
      "44/44 [==============================] - 35s 800ms/step - loss: 0.4547 - accuracy: 0.8300 - lr: 0.0010\n",
      "Epoch 21/100\n",
      "44/44 [==============================] - 32s 717ms/step - loss: 0.3929 - accuracy: 0.8568 - lr: 0.0010\n",
      "Epoch 22/100\n",
      "44/44 [==============================] - 35s 794ms/step - loss: 0.4002 - accuracy: 0.8538 - lr: 0.0010\n",
      "Epoch 23/100\n",
      "44/44 [==============================] - 35s 792ms/step - loss: 0.3913 - accuracy: 0.8520 - lr: 0.0010\n",
      "Epoch 24/100\n",
      "44/44 [==============================] - 35s 798ms/step - loss: 0.3390 - accuracy: 0.8749 - lr: 0.0010\n",
      "Epoch 25/100\n",
      "44/44 [==============================] - 35s 798ms/step - loss: 0.3460 - accuracy: 0.8717 - lr: 0.0010\n",
      "Epoch 26/100\n",
      "44/44 [==============================] - 35s 790ms/step - loss: 0.3269 - accuracy: 0.8830 - lr: 0.0010\n",
      "Epoch 27/100\n",
      "44/44 [==============================] - 36s 805ms/step - loss: 0.2986 - accuracy: 0.8937 - lr: 0.0010\n",
      "Epoch 28/100\n",
      "44/44 [==============================] - 36s 814ms/step - loss: 0.2900 - accuracy: 0.8951 - lr: 0.0010\n",
      "Epoch 29/100\n",
      "44/44 [==============================] - 34s 769ms/step - loss: 0.2798 - accuracy: 0.8978 - lr: 0.0010\n",
      "Epoch 30/100\n",
      "44/44 [==============================] - 36s 822ms/step - loss: 0.2396 - accuracy: 0.9199 - lr: 0.0010\n",
      "Epoch 31/100\n",
      "44/44 [==============================] - 41s 924ms/step - loss: 0.2098 - accuracy: 0.9303 - lr: 0.0010\n",
      "Epoch 32/100\n",
      "44/44 [==============================] - 40s 905ms/step - loss: 0.2167 - accuracy: 0.9287 - lr: 0.0010\n",
      "Epoch 33/100\n",
      "44/44 [==============================] - 39s 884ms/step - loss: 0.2066 - accuracy: 0.9273 - lr: 0.0010\n",
      "Epoch 34/100\n",
      "44/44 [==============================] - 39s 887ms/step - loss: 0.2434 - accuracy: 0.9106 - lr: 0.0010\n"
     ]
    },
    {
     "data": {
      "text/plain": [
       "<keras.callbacks.History at 0x235734f82e0>"
      ]
     },
     "execution_count": 9,
     "metadata": {},
     "output_type": "execute_result"
    }
   ],
   "source": [
    "model.fit(xtrain,\n",
    "                    steps_per_epoch = len(xtrain),\n",
    "                    callbacks=callback,\n",
    "                    epochs=100)"
   ]
  },
  {
   "cell_type": "markdown",
   "id": "58160e71",
   "metadata": {},
   "source": [
    "## 6.Save Model"
   ]
  },
  {
   "cell_type": "code",
   "execution_count": 10,
   "id": "d7c77621",
   "metadata": {},
   "outputs": [],
   "source": [
    "model.save('flower_cnn.h5')"
   ]
  },
  {
   "cell_type": "markdown",
   "id": "9fa52ae2",
   "metadata": {},
   "source": [
    "## 7.Test Model"
   ]
  },
  {
   "cell_type": "code",
   "execution_count": 11,
   "id": "335ae395",
   "metadata": {},
   "outputs": [],
   "source": [
    "import numpy as np\n",
    "from tensorflow.keras.preprocessing import image"
   ]
  },
  {
   "cell_type": "code",
   "execution_count": 19,
   "id": "4c9ede86",
   "metadata": {},
   "outputs": [
    {
     "data": {
      "image/png": "[encoded data removed]",
      "text/plain": [
       "<PIL.Image.Image image mode=RGB size=64x64 at 0x23573706A90>"
      ]
     },
     "execution_count": 19,
     "metadata": {},
     "output_type": "execute_result"
    }
   ],
   "source": [
    "img = image.load_img('Flowers-Dataset/test_image.jpg',target_size=(64,64))\n",
    "img"
   ]
  },
  {
   "cell_type": "code",
   "execution_count": 20,
   "id": "b0d5655c",
   "metadata": {},
   "outputs": [
    {
     "data": {
      "text/plain": [
       "array([[[42., 39., 32.],\n",
       "        [44., 41., 34.],\n",
       "        [44., 41., 34.],\n",
       "        ...,\n",
       "        [44., 41., 36.],\n",
       "        [44., 41., 34.],\n",
       "        [45., 42., 35.]],\n",
       "\n",
       "       [[43., 40., 35.],\n",
       "        [43., 40., 33.],\n",
       "        [44., 41., 34.],\n",
       "        ...,\n",
       "        [44., 39., 36.],\n",
       "        [45., 42., 35.],\n",
       "        [45., 42., 35.]],\n",
       "\n",
       "       [[44., 41., 36.],\n",
       "        [43., 40., 33.],\n",
       "        [43., 40., 33.],\n",
       "        ...,\n",
       "        [44., 39., 36.],\n",
       "        [42., 38., 35.],\n",
       "        [44., 41., 36.]],\n",
       "\n",
       "       ...,\n",
       "\n",
       "       [[31., 26., 20.],\n",
       "        [33., 24., 19.],\n",
       "        [33., 24., 19.],\n",
       "        ...,\n",
       "        [28., 25., 20.],\n",
       "        [29., 26., 21.],\n",
       "        [30., 27., 22.]],\n",
       "\n",
       "       [[30., 25., 19.],\n",
       "        [33., 24., 19.],\n",
       "        [32., 23., 18.],\n",
       "        ...,\n",
       "        [28., 24., 21.],\n",
       "        [28., 25., 20.],\n",
       "        [31., 28., 23.]],\n",
       "\n",
       "       [[33., 24., 19.],\n",
       "        [32., 23., 18.],\n",
       "        [31., 22., 17.],\n",
       "        ...,\n",
       "        [28., 25., 20.],\n",
       "        [28., 24., 21.],\n",
       "        [30., 27., 22.]]], dtype=float32)"
      ]
     },
     "execution_count": 20,
     "metadata": {},
     "output_type": "execute_result"
    }
   ],
   "source": [
    "h = image.img_to_array(img)\n",
    "h"
   ]
  },
  {
   "cell_type": "code",
   "execution_count": 21,
   "id": "95146811",
   "metadata": {},
   "outputs": [
    {
     "data": {
      "text/plain": [
       "array([[[[42., 39., 32.],\n",
       "         [44., 41., 34.],\n",
       "         [44., 41., 34.],\n",
       "         ...,\n",
       "         [44., 41., 36.],\n",
       "         [44., 41., 34.],\n",
       "         [45., 42., 35.]],\n",
       "\n",
       "        [[43., 40., 35.],\n",
       "         [43., 40., 33.],\n",
       "         [44., 41., 34.],\n",
       "         ...,\n",
       "         [44., 39., 36.],\n",
       "         [45., 42., 35.],\n",
       "         [45., 42., 35.]],\n",
       "\n",
       "        [[44., 41., 36.],\n",
       "         [43., 40., 33.],\n",
       "         [43., 40., 33.],\n",
       "         ...,\n",
       "         [44., 39., 36.],\n",
       "         [42., 38., 35.],\n",
       "         [44., 41., 36.]],\n",
       "\n",
       "        ...,\n",
       "\n",
       "        [[31., 26., 20.],\n",
       "         [33., 24., 19.],\n",
       "         [33., 24., 19.],\n",
       "         ...,\n",
       "         [28., 25., 20.],\n",
       "         [29., 26., 21.],\n",
       "         [30., 27., 22.]],\n",
       "\n",
       "        [[30., 25., 19.],\n",
       "         [33., 24., 19.],\n",
       "         [32., 23., 18.],\n",
       "         ...,\n",
       "         [28., 24., 21.],\n",
       "         [28., 25., 20.],\n",
       "         [31., 28., 23.]],\n",
       "\n",
       "        [[33., 24., 19.],\n",
       "         [32., 23., 18.],\n",
       "         [31., 22., 17.],\n",
       "         ...,\n",
       "         [28., 25., 20.],\n",
       "         [28., 24., 21.],\n",
       "         [30., 27., 22.]]]], dtype=float32)"
      ]
     },
     "execution_count": 21,
     "metadata": {},
     "output_type": "execute_result"
    }
   ],
   "source": [
    "h= np.expand_dims(h,axis= 0)\n",
    "h"
   ]
  },
  {
   "cell_type": "code",
   "execution_count": 22,
   "id": "7e8c42b8",
   "metadata": {},
   "outputs": [
    {
     "data": {
      "text/plain": [
       "['daisy', 'dandelion', 'rose', 'sunflower', 'tulip']"
      ]
     },
     "execution_count": 22,
     "metadata": {},
     "output_type": "execute_result"
    }
   ],
   "source": [
    "val = list(xtrain.class_indices.keys())\n",
    "val"
   ]
  },
  {
   "cell_type": "code",
   "execution_count": 23,
   "id": "0aa78370",
   "metadata": {},
   "outputs": [
    {
     "name": "stdout",
     "output_type": "stream",
     "text": [
      "1/1 [==============================] - 0s 279ms/step\n"
     ]
    },
    {
     "data": {
      "text/plain": [
       "'rose'"
      ]
     },
     "execution_count": 23,
     "metadata": {},
     "output_type": "execute_result"
    }
   ],
   "source": [
    "val[np.argmax(model.predict(h))]"
   ]
  },
  {
   "cell_type": "code",
   "execution_count": null,
   "id": "9ee90596",
   "metadata": {},
   "outputs": [],
   "source": []
  }
 ],
 "metadata": {
  "kernelspec": {
   "display_name": "Python 3 (ipykernel)",
   "language": "python",
   "name": "python3"
  },
  "language_info": {
   "codemirror_mode": {
    "name": "ipython",
    "version": 3
   },
   "file_extension": ".py",
   "mimetype": "text/x-python",
   "name": "python",
   "nbconvert_exporter": "python",
   "pygments_lexer": "ipython3",
   "version": "3.8.3"
  }
 },
 "nbformat": 4,
 "nbformat_minor": 5
}
